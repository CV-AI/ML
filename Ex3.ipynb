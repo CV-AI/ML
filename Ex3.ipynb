{
 "cells": [
  {
   "cell_type": "code",
   "execution_count": 1,
   "metadata": {},
   "outputs": [],
   "source": [
    "import numpy as np\n",
    "import matplotlib.pyplot as plt\n",
    "import pandas as pd\n",
    "training_set = \"Lab01-Data/lab1_Ex3_data/lab1_Ex3_train.csv\"\n",
    "test_set = \"Lab01-Data/lab1_Ex3_data/lab1_Ex3_test.csv\""
   ]
  },
  {
   "cell_type": "code",
   "execution_count": 2,
   "metadata": {},
   "outputs": [
    {
     "name": "stdout",
     "output_type": "stream",
     "text": [
      "[array([14, 39], dtype=int64), array([27, 36], dtype=int64), array([38, 81], dtype=int64), array([35, 67], dtype=int64), array([18, 32], dtype=int64), array([23, 31], dtype=int64), array([38, 81], dtype=int64), array([31, 48], dtype=int64), array([32, 54], dtype=int64), array([22, 31], dtype=int64), array([12,  4], dtype=int64), array([39, 26], dtype=int64), array([36,  6], dtype=int64), array([10,  7], dtype=int64), array([13,  5], dtype=int64), array([18,  9], dtype=int64), array([11,  6], dtype=int64), array([13,  5], dtype=int64), array([29, 15], dtype=int64), array([17,  7], dtype=int64)]\n",
      "[1 1 1 1 1 1 1 1 1 1 2 2 2 2 2 2 2 2 2 2]\n",
      "[[22 32]\n",
      " [37 42]\n",
      " [29 29]\n",
      " [38 48]\n",
      " [17 66]\n",
      " [17 37]\n",
      " [20 66]\n",
      " [11 65]\n",
      " [24 77]\n",
      " [21 42]]\n"
     ]
    }
   ],
   "source": [
    "training_data_frame = pd.read_csv(training_set)\n",
    "test_data_frame = pd.read_csv(test_set)\n",
    "train_data = [data[0:2] for data in training_data_frame.values]\n",
    "train_label = np.array([data[2] for data in training_data_frame.values])\n",
    "test_data = np.array(test_data_frame.values)\n",
    "print(train_data)\n",
    "print(train_label)\n",
    "print(test_data)"
   ]
  },
  {
   "cell_type": "code",
   "execution_count": 3,
   "metadata": {},
   "outputs": [
    {
     "data": {
      "text/plain": [
       "array([1, 1, 1, 1, 1, 1, 1, 1, 1, 1])"
      ]
     },
     "execution_count": 3,
     "metadata": {},
     "output_type": "execute_result"
    }
   ],
   "source": [
    "def bayes(train_data, train_label, test_data):\n",
    "    class_1 = []\n",
    "    class_2 = []\n",
    "    num_class_1 = 0.0\n",
    "    num_class_2 = 0.0\n",
    "    for i in range(len(train_data)):\n",
    "        if train_label[i] == 1:\n",
    "            class_1.append(train_data[i])\n",
    "            num_class_1 += 1\n",
    "        else:\n",
    "            class_2.append(train_data[i])\n",
    "            num_class_2 += 1\n",
    "    p_1 = num_class_1/len(train_label)\n",
    "    p_2 = num_class_2/len(train_label)\n",
    "    # print(np.array(class_1).shape)\n",
    "    mean_class_1 = np.mean(np.array(class_1), axis=0)\n",
    "    mean_class_2 = np.mean(np.array(class_2),axis=0)\n",
    "    var_class_1 = np.var(np.array(class_1),axis=0)\n",
    "    var_class_2 = np.var(np.array(class_2),axis=0)\n",
    "    std_class_1 = np.std(np.array(class_1),axis=0)\n",
    "    std_class_2 = np.std(np.array(class_2),axis=0)\n",
    "    def get_prob_1(data):\n",
    "        return  np.exp(-np.power((data-mean_class_1),2)/(2*var_class_1))/(np.sqrt(2*np.pi)*std_class_1)\n",
    "    def get_prob_2(data):\n",
    "        return np.exp(-np.power((data-mean_class_2),2)/(2*var_class_2))/(np.sqrt(2*np.pi)*std_class_2)\n",
    "    test_label = []\n",
    "    for data in test_data:\n",
    "        data = np.array(data)\n",
    "        # p_list_1 是 P(feature1|class1), P(feature1|class1)\n",
    "        p_list_1 = get_prob_1(data)\n",
    "        p_list_2 = get_prob_2(data)\n",
    "        if p_1*p_list_1[0]*p_list_1[1] > p_2*p_list_2[0]*p_list_2[1]:\n",
    "            # print(abs(p_1*p_list_1[0]*p_list_1[1] - p_2*p_list_2[0]*p_list_2[1]))\n",
    "            test_label.append(1)\n",
    "        else:\n",
    "            test_label.append(2)\n",
    "    # print(test_label)\n",
    "    return np.array(test_label)\n",
    "output_dict = {}\n",
    "output_dict['Q1'] = bayes\n",
    "bayes(train_data, train_label, test_data)"
   ]
  },
  {
   "cell_type": "code",
   "execution_count": 4,
   "metadata": {},
   "outputs": [
    {
     "name": "stdout",
     "output_type": "stream",
     "text": [
      "[ 0  0  0  0  0  0  0  0  0  0  0 -1  0  0  0  0  0  0  0  0]\n",
      "1\n",
      "0.05\n",
      "[1 1 1 1 1 1 1 1 1 1]\n"
     ]
    }
   ],
   "source": [
    "training_error = bayes(train_data, train_label, train_data) - train_label\n",
    "print(training_error)\n",
    "print(abs(training_error).sum())\n",
    "output_dict['Q2'] = abs(training_error).sum()/len(train_data)\n",
    "output_dict['Q3'] = np.sort(bayes(train_data, train_label, test_data))\n",
    "print(output_dict['Q2'])\n",
    "print(output_dict['Q3'])"
   ]
  },
  {
   "cell_type": "code",
   "execution_count": 5,
   "metadata": {},
   "outputs": [],
   "source": [
    "# feature的分布在0~100间，遍历整个空间求得boundry\n",
    "boundry = []\n",
    "def bayes_for_Q4(train_data, train_label, test_data):\n",
    "    class_1 = []\n",
    "    class_2 = []\n",
    "    num_class_1 = 0.0\n",
    "    num_class_2 = 0.0\n",
    "    for i in range(len(train_data)):\n",
    "        if train_label[i] == 1:\n",
    "            class_1.append(train_data[i])\n",
    "            num_class_1 += 1\n",
    "        else:\n",
    "            class_2.append(train_data[i])\n",
    "            num_class_2 += 1\n",
    "    p_1 = num_class_1/len(train_label)\n",
    "    p_2 = num_class_2/len(train_label)\n",
    "    # print(np.array(class_1).shape)\n",
    "    mean_class_1 = np.mean(np.array(class_1), axis=0)\n",
    "    mean_class_2 = np.mean(np.array(class_2),axis=0)\n",
    "    var_class_1 = np.var(np.array(class_1),axis=0)\n",
    "    var_class_2 = np.var(np.array(class_2),axis=0)\n",
    "    std_class_1 = np.std(np.array(class_1),axis=0)\n",
    "    std_class_2 = np.std(np.array(class_2),axis=0)\n",
    "    def get_prob_1(data):\n",
    "        return  np.exp(-np.power((data-mean_class_1),2)/(2*var_class_1))/(np.sqrt(2*np.pi)*std_class_1)\n",
    "    def get_prob_2(data):\n",
    "        return np.exp(-np.power((data-mean_class_2),2)/(2*var_class_2))/(np.sqrt(2*np.pi)*std_class_2)\n",
    "    prob = []\n",
    "    for data in test_data:\n",
    "        # p_list_1 是 P(feature1|class1), P(feature1|class1)\n",
    "        p_list_1 = get_prob_1(data)\n",
    "        p_list_2 = get_prob_2(data)\n",
    "        prob.append([p_1*p_list_1[0]*p_list_1[1]-p_2*p_list_2[0]*p_list_2[1]])\n",
    "    return prob\n",
    "      "
   ]
  },
  {
   "cell_type": "code",
   "execution_count": 6,
   "metadata": {},
   "outputs": [
    {
     "name": "stdout",
     "output_type": "stream",
     "text": [
      "10\n"
     ]
    }
   ],
   "source": [
    "class_1 = []\n",
    "class_2 = []\n",
    "num_class_1 = 0.0\n",
    "num_class_2 = 0.0\n",
    "for i in range(len(train_data)):\n",
    "    if train_label[i] == 1:\n",
    "        class_1.append(train_data[i])\n",
    "        num_class_1 += 1\n",
    "    else:\n",
    "        class_2.append(train_data[i])\n",
    "        num_class_2 += 1\n",
    "p_1 = num_class_1/len(train_label)\n",
    "p_2 = num_class_2/len(train_label)\n",
    "class_1_x = [data[0] for data in class_1]\n",
    "class_1_y = [data[1] for data in class_1]\n",
    "class_2_x = [data[0] for data in class_2]\n",
    "class_2_y = [data[1] for data in class_2]\n",
    "test_x = [data[0] for data in test_data]\n",
    "test_y  = [data[1] for data in test_data]\n",
    "# prepare meshgrid\n",
    "x_min, x_max = np.array(train_data)[:, 0].min() -1 , np.array(train_data)[:, 0].max()\n",
    "y_min, y_max = np.array(train_data)[:, 1].min() -1 , np.array(train_data)[:, 1].max()\n",
    "h = 0.5\n",
    "xx, yy = np.meshgrid(np.arange(x_min, x_max, h),\n",
    "                     np.arange(y_min, y_max, h))\n",
    "Z = np.array(bayes_for_Q4(train_data, train_label, np.c_[xx.ravel(), yy.ravel()]))"
   ]
  },
  {
   "cell_type": "code",
   "execution_count": 10,
   "metadata": {},
   "outputs": [
    {
     "name": "stdout",
     "output_type": "stream",
     "text": [
      "[12, 39, 36, 10, 13, 18, 11, 13, 29, 17]\n",
      "[4, 26, 6, 7, 5, 9, 6, 5, 15, 7]\n"
     ]
    },
    {
     "data": {
      "image/png": "[encoded data removed]",
      "text/plain": [
       "<Figure size 432x432 with 1 Axes>"
      ]
     },
     "metadata": {
      "needs_background": "light"
     },
     "output_type": "display_data"
    }
   ],
   "source": [
    "print(class_2_x)\n",
    "print(class_2_y)\n",
    "fig, ax = plt.subplots()\n",
    "fig.set_size_inches(6, 6)\n",
    "Z = Z.reshape(xx.shape)\n",
    "# 只画一条最低的等高线（也就是两者概率相差最小的那条线，即边界）\n",
    "ax.contour(xx, yy, Z,levels=0,colors='k')\n",
    "plt.scatter(class_1_x, class_1_y, marker='o', c='b')\n",
    "plt.scatter(class_2_x, class_2_y, marker='s', c='g')\n",
    "plt.scatter(test_x, test_y, marker='^', c='r')\n",
    "plt.xlim(0, 45)\n",
    "plt.ylim(0, 90)\n",
    "plt.show()"
   ]
  },
  {
   "cell_type": "code",
   "execution_count": null,
   "metadata": {},
   "outputs": [],
   "source": []
  }
 ],
 "metadata": {
  "kernelspec": {
   "display_name": "Python 3",
   "language": "python",
   "name": "python3"
  },
  "language_info": {
   "codemirror_mode": {
    "name": "ipython",
    "version": 3
   },
   "file_extension": ".py",
   "mimetype": "text/x-python",
   "name": "python",
   "nbconvert_exporter": "python",
   "pygments_lexer": "ipython3",
   "version": "3.7.3"
  }
 },
 "nbformat": 4,
 "nbformat_minor": 2
}
